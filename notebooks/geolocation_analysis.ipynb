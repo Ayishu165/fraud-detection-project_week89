{
 "cells": [
  {
   "cell_type": "code",
   "execution_count": 2,
   "id": "b85a17ff",
   "metadata": {},
   "outputs": [],
   "source": [
    "import pandas as pd\n",
    "import ipaddress\n",
    "import os\n"
   ]
  },
  {
   "cell_type": "code",
   "execution_count": 4,
   "id": "ea10f441",
   "metadata": {},
   "outputs": [],
   "source": [
    "# Load the datasets\n",
    "fraud_df = pd.read_csv(\"../data/cleaned_fraud_data.csv\")\n",
    "ip_df = pd.read_csv(\"../data/cleaned_ip_data.csv\")"
   ]
  },
  {
   "cell_type": "code",
   "execution_count": 5,
   "id": "a2da4176",
   "metadata": {},
   "outputs": [],
   "source": [
    "# Convert float IPs to integers\n",
    "fraud_df['ip_address_int'] = fraud_df['ip_address'].astype(float).astype(int)\n",
    "ip_df['lower_bound_int'] = ip_df['lower_bound_ip_address'].astype(float).astype(int)\n",
    "ip_df['upper_bound_int'] = ip_df['upper_bound_ip_address'].astype(float).astype(int)\n"
   ]
  },
  {
   "cell_type": "code",
   "execution_count": 6,
   "id": "4a13a3fd",
   "metadata": {},
   "outputs": [
    {
     "name": "stdout",
     "output_type": "stream",
     "text": [
      "✅ Merged data saved to: ../data/Fraud_Data_With_Country.csv\n"
     ]
    }
   ],
   "source": [
    "\n",
    "# Sort IP ranges for efficient lookup\n",
    "ip_df = ip_df.sort_values('lower_bound_int').reset_index(drop=True)\n",
    "\n",
    "# Define function to lookup country by IP\n",
    "def find_country(ip_int):\n",
    "    row = ip_df[\n",
    "        (ip_df['lower_bound_int'] <= ip_int) &\n",
    "        (ip_df['upper_bound_int'] >= ip_int)\n",
    "    ]\n",
    "    return row['country'].values[0] if not row.empty else 'Unknown'\n",
    "\n",
    "# Apply the function to assign countries\n",
    "fraud_df['country'] = fraud_df['ip_address_int'].apply(find_country)\n",
    "\n",
    "# Save output\n",
    "fraud_df.to_csv(\"../data/Fraud_Data_With_Country.csv\", index=False)\n",
    "print(\"✅ Merged data saved to: ../data/Fraud_Data_With_Country.csv\")\n",
    "\n"
   ]
  },
  {
   "cell_type": "code",
   "execution_count": 7,
   "id": "1f7c9570",
   "metadata": {},
   "outputs": [
    {
     "name": "stdout",
     "output_type": "stream",
     "text": [
      "country\n",
      "United States        58049\n",
      "Unknown              21966\n",
      "China                12038\n",
      "Japan                 7306\n",
      "United Kingdom        4490\n",
      "Korea Republic of     4162\n",
      "Germany               3646\n",
      "France                3161\n",
      "Canada                2975\n",
      "Brazil                2961\n",
      "Name: count, dtype: int64\n",
      "\n",
      "🚨 Top 10 countries by fraud rate:\n",
      "country\n",
      "Turkmenistan             1.000000\n",
      "Namibia                  0.434783\n",
      "Sri Lanka                0.419355\n",
      "Luxembourg               0.388889\n",
      "Virgin Islands (U.S.)    0.333333\n",
      "Ecuador                  0.264151\n",
      "Tunisia                  0.262712\n",
      "Peru                     0.260504\n",
      "Bolivia                  0.245283\n",
      "Kuwait                   0.233333\n",
      "Name: class, dtype: float64\n"
     ]
    }
   ],
   "source": [
    "# Quick summaryprint(\"\\n📊 Top 10 countries by transaction count:\")\n",
    "print(fraud_df['country'].value_counts().head(10))\n",
    "print(\"\\n🚨 Top 10 countries by fraud rate:\")\n",
    "print(fraud_df.groupby('country')['class'].mean().sort_values(ascending=False).head(10))"
   ]
  }
 ],
 "metadata": {
  "kernelspec": {
   "display_name": ".venv",
   "language": "python",
   "name": "python3"
  },
  "language_info": {
   "codemirror_mode": {
    "name": "ipython",
    "version": 3
   },
   "file_extension": ".py",
   "mimetype": "text/x-python",
   "name": "python",
   "nbconvert_exporter": "python",
   "pygments_lexer": "ipython3",
   "version": "3.10.11"
  }
 },
 "nbformat": 4,
 "nbformat_minor": 5
}
