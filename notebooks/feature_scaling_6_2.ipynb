{
 "cells": [
  {
   "cell_type": "code",
   "execution_count": 1,
   "id": "2269aa68",
   "metadata": {},
   "outputs": [],
   "source": [
    "import pandas as pd\n",
    "from sklearn.preprocessing import StandardScaler"
   ]
  },
  {
   "cell_type": "code",
   "execution_count": 2,
   "id": "d8a704e6",
   "metadata": {},
   "outputs": [],
   "source": [
    "# Load data\n",
    "X_train = pd.read_csv(\"../data/X_train_smote.csv\")\n",
    "X_test = pd.read_csv(\"../data/X_test_original.csv\")"
   ]
  },
  {
   "cell_type": "code",
   "execution_count": 3,
   "id": "14f45d9b",
   "metadata": {},
   "outputs": [
    {
     "name": "stdout",
     "output_type": "stream",
     "text": [
      "✅ Feature scaling complete. Files saved:\n",
      "- X_train_scaled.csv\n",
      "- X_test_scaled.csv\n"
     ]
    }
   ],
   "source": [
    "# Scale features using StandardScaler\n",
    "scaler = StandardScaler()\n",
    "X_train_scaled = scaler.fit_transform(X_train)\n",
    "X_test_scaled = scaler.transform(X_test)\n",
    "# Save results\n",
    "pd.DataFrame(X_train_scaled, columns=X_train.columns).to_csv(\"../data/X_train_scaled.csv\", index=False)\n",
    "pd.DataFrame(X_test_scaled, columns=X_test.columns).to_csv(\"../data/X_test_scaled.csv\", index=False)\n",
    "\n",
    "print(\"✅ Feature scaling complete. Files saved:\")\n",
    "print(\"- X_train_scaled.csv\")\n",
    "print(\"- X_test_scaled.csv\")\n"
   ]
  }
 ],
 "metadata": {
  "kernelspec": {
   "display_name": ".venv",
   "language": "python",
   "name": "python3"
  },
  "language_info": {
   "codemirror_mode": {
    "name": "ipython",
    "version": 3
   },
   "file_extension": ".py",
   "mimetype": "text/x-python",
   "name": "python",
   "nbconvert_exporter": "python",
   "pygments_lexer": "ipython3",
   "version": "3.10.11"
  }
 },
 "nbformat": 4,
 "nbformat_minor": 5
}
