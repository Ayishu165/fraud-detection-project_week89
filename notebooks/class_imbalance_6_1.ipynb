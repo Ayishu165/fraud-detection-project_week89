{
 "cells": [
  {
   "cell_type": "code",
   "execution_count": 1,
   "id": "8aaec5a7",
   "metadata": {},
   "outputs": [],
   "source": [
    "import pandas as pd\n",
    "from sklearn.model_selection import train_test_split\n",
    "from imblearn.over_sampling import SMOTE"
   ]
  },
  {
   "cell_type": "code",
   "execution_count": 2,
   "id": "92afff7e",
   "metadata": {},
   "outputs": [],
   "source": [
    "# Load dataset\n",
    "df = pd.read_csv(\"../data/feature_engineered_data.csv\")"
   ]
  },
  {
   "cell_type": "code",
   "execution_count": 3,
   "id": "2d40c3b1",
   "metadata": {},
   "outputs": [
    {
     "name": "stdout",
     "output_type": "stream",
     "text": [
      "Before SMOTE:\n",
      "class\n",
      "0    0.906351\n",
      "1    0.093649\n",
      "Name: proportion, dtype: float64\n"
     ]
    }
   ],
   "source": [
    "\n",
    "# Drop irrelevant columns\n",
    "df = df.drop(columns=['user_id', 'device_id', 'ip_address', 'signup_time', 'purchase_time'])\n",
    "\n",
    "# Separate features and target\n",
    "X = df.drop(columns=['class'])\n",
    "y = df['class']\n",
    "\n",
    "# Encode categoricals temporarily (will be redone in 6_3 later)\n",
    "X = pd.get_dummies(X, drop_first=True)\n",
    "\n",
    "# Stratified split\n",
    "X_train, X_test, y_train, y_test = train_test_split(X, y, stratify=y, random_state=42, test_size=0.3)\n",
    "\n",
    "# Before SMOTE\n",
    "print(\"Before SMOTE:\")\n",
    "print(y_train.value_counts(normalize=True))"
   ]
  },
  {
   "cell_type": "code",
   "execution_count": 4,
   "id": "29733430",
   "metadata": {},
   "outputs": [
    {
     "name": "stdout",
     "output_type": "stream",
     "text": [
      "\n",
      "After SMOTE:\n",
      "class\n",
      "0    0.5\n",
      "1    0.5\n",
      "Name: proportion, dtype: float64\n"
     ]
    }
   ],
   "source": [
    "# Apply SMOTE\n",
    "smote = SMOTE(random_state=42)\n",
    "X_train_smote, y_train_smote = smote.fit_resample(X_train, y_train)\n",
    "\n",
    "# After SMOTE\n",
    "print(\"\\nAfter SMOTE:\")\n",
    "print(y_train_smote.value_counts(normalize=True))\n",
    "\n"
   ]
  },
  {
   "cell_type": "code",
   "execution_count": 5,
   "id": "bcd574ff",
   "metadata": {},
   "outputs": [],
   "source": [
    "# Optionally save resampled train set\n",
    "pd.DataFrame(X_train_smote, columns=X_train.columns).to_csv(\"../data/X_train_smote.csv\", index=False)\n",
    "pd.DataFrame(y_train_smote, columns=[\"class\"]).to_csv(\"../data/y_train_smote.csv\", index=False)\n",
    "X_test.to_csv(\"../data/X_test_original.csv\", index=False)\n",
    "y_test.to_csv(\"../data/y_test_original.csv\", index=False)"
   ]
  }
 ],
 "metadata": {
  "kernelspec": {
   "display_name": ".venv",
   "language": "python",
   "name": "python3"
  },
  "language_info": {
   "codemirror_mode": {
    "name": "ipython",
    "version": 3
   },
   "file_extension": ".py",
   "mimetype": "text/x-python",
   "name": "python",
   "nbconvert_exporter": "python",
   "pygments_lexer": "ipython3",
   "version": "3.10.11"
  }
 },
 "nbformat": 4,
 "nbformat_minor": 5
}
