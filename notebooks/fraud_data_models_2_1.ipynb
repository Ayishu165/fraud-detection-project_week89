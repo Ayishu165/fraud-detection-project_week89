{
 "cells": [
  {
   "cell_type": "code",
   "execution_count": null,
   "id": "67d2a2f2",
   "metadata": {},
   "outputs": [],
   "source": [
    "#Train and evaluate models on Fraud_Data\n",
    "import pandas as pd\n",
    "from sklearn.model_selection import train_test_split\n",
    "from sklearn.linear_model import LogisticRegression\n",
    "from sklearn.ensemble import RandomForestClassifier\n",
    "from sklearn.metrics import classification_report, confusion_matrix, roc_auc_score, average_precision_score"
   ]
  },
  {
   "cell_type": "code",
   "execution_count": 2,
   "id": "75a90eda",
   "metadata": {},
   "outputs": [],
   "source": [
    "\n",
    "# -------------------------\n",
    "# Load scaled + cleaned data\n",
    "# -------------------------\n",
    "X_train = pd.read_csv(\"../data/X_train_scaled.csv\")\n",
    "X_test = pd.read_csv(\"../data/X_test_scaled.csv\")\n",
    "y_train = pd.read_csv(\"../data/y_train_smote.csv\")['class']\n",
    "y_test = pd.read_csv(\"../data/y_test_original.csv\")['class']\n"
   ]
  },
  {
   "cell_type": "code",
   "execution_count": 3,
   "id": "c20fa1b6",
   "metadata": {},
   "outputs": [],
   "source": [
    "# -------------------------\n",
    "# 1. Logistic Regression\n",
    "# -------------------------\n",
    "lr_model = LogisticRegression(max_iter=1000, random_state=42)\n",
    "lr_model.fit(X_train, y_train)\n",
    "lr_preds = lr_model.predict(X_test)\n",
    "lr_probs = lr_model.predict_proba(X_test)[:, 1]"
   ]
  },
  {
   "cell_type": "code",
   "execution_count": 4,
   "id": "be25b4c6",
   "metadata": {},
   "outputs": [],
   "source": [
    "# -------------------------\n",
    "# 2. Random Forest\n",
    "# -------------------------\n",
    "rf_model = RandomForestClassifier(n_estimators=100, max_depth=10, random_state=42)\n",
    "rf_model.fit(X_train, y_train)\n",
    "rf_preds = rf_model.predict(X_test)\n",
    "rf_probs = rf_model.predict_proba(X_test)[:, 1]"
   ]
  },
  {
   "cell_type": "code",
   "execution_count": 5,
   "id": "26899b81",
   "metadata": {},
   "outputs": [],
   "source": [
    "\n",
    "# -------------------------\n",
    "# 3. Evaluation Function\n",
    "# -------------------------\n",
    "def evaluate(y_true, preds, probs, model_name):\n",
    "    print(f\"\\n📊 Evaluation for {model_name}\")\n",
    "    print(\"Confusion Matrix:\\n\", confusion_matrix(y_true, preds))\n",
    "    print(\"\\nClassification Report:\\n\", classification_report(y_true, preds, digits=4))\n",
    "    print(\"🔹 ROC-AUC Score:\", roc_auc_score(y_true, probs))\n",
    "    print(\"🔸 PR-AUC Score :\", average_precision_score(y_true, probs))\n"
   ]
  },
  {
   "cell_type": "code",
   "execution_count": 7,
   "id": "cacbea9d",
   "metadata": {},
   "outputs": [
    {
     "name": "stdout",
     "output_type": "stream",
     "text": [
      "\n",
      "📊 Evaluation for Logistic Regression\n",
      "Confusion Matrix:\n",
      " [[31132  9957]\n",
      " [ 1679  2566]]\n",
      "\n",
      "Classification Report:\n",
      "               precision    recall  f1-score   support\n",
      "\n",
      "           0     0.9488    0.7577    0.8425     41089\n",
      "           1     0.2049    0.6045    0.3061      4245\n",
      "\n",
      "    accuracy                         0.7433     45334\n",
      "   macro avg     0.5769    0.6811    0.5743     45334\n",
      "weighted avg     0.8792    0.7433    0.7923     45334\n",
      "\n",
      "🔹 ROC-AUC Score: 0.7210578914838572\n",
      "🔸 PR-AUC Score : 0.2781827264454265\n"
     ]
    }
   ],
   "source": [
    "\n",
    "# -------------------------\n",
    "# 4. Evaluate both models\n",
    "# -------------------------\n",
    "evaluate(y_test, lr_preds, lr_probs, \"Logistic Regression\")\n"
   ]
  },
  {
   "cell_type": "code",
   "execution_count": 8,
   "id": "4502bc30",
   "metadata": {},
   "outputs": [
    {
     "name": "stdout",
     "output_type": "stream",
     "text": [
      "\n",
      "📊 Evaluation for Random Forest\n",
      "Confusion Matrix:\n",
      " [[40952   137]\n",
      " [ 1974  2271]]\n",
      "\n",
      "Classification Report:\n",
      "               precision    recall  f1-score   support\n",
      "\n",
      "           0     0.9540    0.9967    0.9749     41089\n",
      "           1     0.9431    0.5350    0.6827      4245\n",
      "\n",
      "    accuracy                         0.9534     45334\n",
      "   macro avg     0.9486    0.7658    0.8288     45334\n",
      "weighted avg     0.9530    0.9534    0.9475     45334\n",
      "\n",
      "🔹 ROC-AUC Score: 0.7712675415350648\n",
      "🔸 PR-AUC Score : 0.6289248996359332\n"
     ]
    }
   ],
   "source": [
    "evaluate(y_test, rf_preds, rf_probs, \"Random Forest\")"
   ]
  }
 ],
 "metadata": {
  "kernelspec": {
   "display_name": ".venv",
   "language": "python",
   "name": "python3"
  },
  "language_info": {
   "codemirror_mode": {
    "name": "ipython",
    "version": 3
   },
   "file_extension": ".py",
   "mimetype": "text/x-python",
   "name": "python",
   "nbconvert_exporter": "python",
   "pygments_lexer": "ipython3",
   "version": "3.10.11"
  }
 },
 "nbformat": 4,
 "nbformat_minor": 5
}
