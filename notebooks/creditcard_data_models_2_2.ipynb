{
 "cells": [
  {
   "cell_type": "code",
   "execution_count": 1,
   "id": "6dfcfc50",
   "metadata": {},
   "outputs": [],
   "source": [
    "import pandas as pd\n",
    "from sklearn.model_selection import train_test_split\n",
    "from sklearn.linear_model import LogisticRegression\n",
    "from sklearn.ensemble import RandomForestClassifier\n",
    "from sklearn.metrics import classification_report, confusion_matrix, roc_auc_score, average_precision_score\n"
   ]
  },
  {
   "cell_type": "code",
   "execution_count": 2,
   "id": "0631b965",
   "metadata": {},
   "outputs": [],
   "source": [
    "# -------------------------\n",
    "# Load credit card dataset\n",
    "# -------------------------\n",
    "credit_df = pd.read_csv(\"../data/cleaned_credit_data.csv\")"
   ]
  },
  {
   "cell_type": "code",
   "execution_count": 3,
   "id": "027e48d3",
   "metadata": {},
   "outputs": [],
   "source": [
    "# Separate features & label\n",
    "X = credit_df.drop(columns=['Class'])\n",
    "y = credit_df['Class']\n",
    "\n",
    "# Train-Test Split\n",
    "X_train, X_test, y_train, y_test = train_test_split(\n",
    "    X, y, stratify=y, test_size=0.3, random_state=42\n",
    ")\n"
   ]
  },
  {
   "cell_type": "code",
   "execution_count": 4,
   "id": "4c48ca17",
   "metadata": {},
   "outputs": [
    {
     "name": "stderr",
     "output_type": "stream",
     "text": [
      "d:\\kaimtenx\\project\\week8and9\\fraud-detection-project_week89\\.venv\\lib\\site-packages\\sklearn\\linear_model\\_logistic.py:465: ConvergenceWarning: lbfgs failed to converge (status=1):\n",
      "STOP: TOTAL NO. OF ITERATIONS REACHED LIMIT.\n",
      "\n",
      "Increase the number of iterations (max_iter) or scale the data as shown in:\n",
      "    https://scikit-learn.org/stable/modules/preprocessing.html\n",
      "Please also refer to the documentation for alternative solver options:\n",
      "    https://scikit-learn.org/stable/modules/linear_model.html#logistic-regression\n",
      "  n_iter_i = _check_optimize_result(\n"
     ]
    }
   ],
   "source": [
    "# -------------------------\n",
    "# 1. Logistic Regression\n",
    "# -------------------------\n",
    "lr = LogisticRegression(max_iter=1000, random_state=42)\n",
    "lr.fit(X_train, y_train)\n",
    "lr_preds = lr.predict(X_test)\n",
    "lr_probs = lr.predict_proba(X_test)[:, 1]\n"
   ]
  },
  {
   "cell_type": "code",
   "execution_count": 5,
   "id": "949657b3",
   "metadata": {},
   "outputs": [],
   "source": [
    "# -------------------------\n",
    "# 2. Random Forest\n",
    "# -------------------------\n",
    "rf = RandomForestClassifier(n_estimators=100, max_depth=10, random_state=42)\n",
    "rf.fit(X_train, y_train)\n",
    "rf_preds = rf.predict(X_test)\n",
    "rf_probs = rf.predict_proba(X_test)[:, 1]"
   ]
  },
  {
   "cell_type": "code",
   "execution_count": 6,
   "id": "4c7c0496",
   "metadata": {},
   "outputs": [],
   "source": [
    "# -------------------------\n",
    "# 3. Evaluate\n",
    "# -------------------------\n",
    "def evaluate(y_true, preds, probs, model_name):\n",
    "    print(f\"\\n📊 {model_name}\")\n",
    "    print(\"Confusion Matrix:\\n\", confusion_matrix(y_true, preds))\n",
    "    print(\"\\nClassification Report:\\n\", classification_report(y_true, preds, digits=4))\n",
    "    print(\"🔹 ROC-AUC Score:\", roc_auc_score(y_true, probs))\n",
    "    print(\"🔸 PR-AUC Score :\", average_precision_score(y_true, probs))\n",
    "\n"
   ]
  },
  {
   "cell_type": "code",
   "execution_count": 7,
   "id": "d9955283",
   "metadata": {},
   "outputs": [
    {
     "name": "stdout",
     "output_type": "stream",
     "text": [
      "\n",
      "📊 Logistic Regression\n",
      "Confusion Matrix:\n",
      " [[84963    13]\n",
      " [   59    83]]\n",
      "\n",
      "Classification Report:\n",
      "               precision    recall  f1-score   support\n",
      "\n",
      "           0     0.9993    0.9998    0.9996     84976\n",
      "           1     0.8646    0.5845    0.6975       142\n",
      "\n",
      "    accuracy                         0.9992     85118\n",
      "   macro avg     0.9319    0.7922    0.8485     85118\n",
      "weighted avg     0.9991    0.9992    0.9991     85118\n",
      "\n",
      "🔹 ROC-AUC Score: 0.9569694574905657\n",
      "🔸 PR-AUC Score : 0.6932525801723478\n",
      "\n",
      "📊 Random Forest\n",
      "Confusion Matrix:\n",
      " [[84971     5]\n",
      " [   31   111]]\n",
      "\n",
      "Classification Report:\n",
      "               precision    recall  f1-score   support\n",
      "\n",
      "           0     0.9996    0.9999    0.9998     84976\n",
      "           1     0.9569    0.7817    0.8605       142\n",
      "\n",
      "    accuracy                         0.9996     85118\n",
      "   macro avg     0.9783    0.8908    0.9301     85118\n",
      "weighted avg     0.9996    0.9996    0.9996     85118\n",
      "\n",
      "🔹 ROC-AUC Score: 0.9660226764939097\n",
      "🔸 PR-AUC Score : 0.80392659794692\n"
     ]
    }
   ],
   "source": [
    "evaluate(y_test, lr_preds, lr_probs, \"Logistic Regression\")\n",
    "evaluate(y_test, rf_preds, rf_probs, \"Random Forest\")"
   ]
  }
 ],
 "metadata": {
  "kernelspec": {
   "display_name": ".venv",
   "language": "python",
   "name": "python3"
  },
  "language_info": {
   "codemirror_mode": {
    "name": "ipython",
    "version": 3
   },
   "file_extension": ".py",
   "mimetype": "text/x-python",
   "name": "python",
   "nbconvert_exporter": "python",
   "pygments_lexer": "ipython3",
   "version": "3.10.11"
  }
 },
 "nbformat": 4,
 "nbformat_minor": 5
}
