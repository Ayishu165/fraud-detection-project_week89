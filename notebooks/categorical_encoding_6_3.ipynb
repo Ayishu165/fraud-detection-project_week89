{
 "cells": [
  {
   "cell_type": "code",
   "execution_count": 1,
   "id": "0f5390c4",
   "metadata": {},
   "outputs": [],
   "source": [
    "import pandas as pd"
   ]
  },
  {
   "cell_type": "code",
   "execution_count": 2,
   "id": "2fc85520",
   "metadata": {},
   "outputs": [],
   "source": [
    "# Load original feature-engineered dataset\n",
    "df = pd.read_csv(\"../data/feature_engineered_data.csv\")"
   ]
  },
  {
   "cell_type": "code",
   "execution_count": 3,
   "id": "38686670",
   "metadata": {},
   "outputs": [
    {
     "name": "stdout",
     "output_type": "stream",
     "text": [
      "✅ Categorical features encoded and saved to encoded_data.csv\n"
     ]
    }
   ],
   "source": [
    "# Drop columns not needed\n",
    "df = df.drop(columns=['user_id', 'device_id', 'ip_address', 'signup_time', 'purchase_time'])\n",
    "\n",
    "# One-hot encode all categorical columns\n",
    "df_encoded = pd.get_dummies(df, columns=['browser', 'source', 'sex', 'country'], drop_first=True)\n",
    "\n",
    "# Save\n",
    "df_encoded.to_csv(\"../data/encoded_data.csv\", index=False)\n",
    "\n",
    "print(\"✅ Categorical features encoded and saved to encoded_data.csv\")\n"
   ]
  }
 ],
 "metadata": {
  "kernelspec": {
   "display_name": ".venv",
   "language": "python",
   "name": "python3"
  },
  "language_info": {
   "codemirror_mode": {
    "name": "ipython",
    "version": 3
   },
   "file_extension": ".py",
   "mimetype": "text/x-python",
   "name": "python",
   "nbconvert_exporter": "python",
   "pygments_lexer": "ipython3",
   "version": "3.10.11"
  }
 },
 "nbformat": 4,
 "nbformat_minor": 5
}
