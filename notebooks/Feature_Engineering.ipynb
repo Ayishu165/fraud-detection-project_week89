{
 "cells": [
  {
   "cell_type": "code",
   "execution_count": 1,
   "id": "0c8f682e",
   "metadata": {},
   "outputs": [],
   "source": [
    "import pandas as pd"
   ]
  },
  {
   "cell_type": "code",
   "execution_count": 2,
   "id": "330f974f",
   "metadata": {},
   "outputs": [],
   "source": [
    "# Load enriched dataset\n",
    "df = pd.read_csv(\"../data/Fraud_Data_With_Country.csv\")"
   ]
  },
  {
   "cell_type": "code",
   "execution_count": 3,
   "id": "9c4a5923",
   "metadata": {},
   "outputs": [],
   "source": [
    "# Convert time columns to datetime\n",
    "df['signup_time'] = pd.to_datetime(df['signup_time'])\n",
    "df['purchase_time'] = pd.to_datetime(df['purchase_time'])\n",
    "\n",
    "# --- Feature 1: Transaction frequency per user ---\n",
    "df['user_txn_count'] = df.groupby('user_id')['user_id'].transform('count')\n",
    "\n",
    "# --- Feature 2: Time difference between signup and purchase (velocity) ---\n",
    "df['txn_time_sec'] = (df['purchase_time'] - df['signup_time']).dt.total_seconds()\n",
    "\n",
    "# --- Feature 3: User's average transaction time ---\n",
    "df['user_avg_txn_time'] = df.groupby('user_id')['txn_time_sec'].transform('mean')\n",
    "\n",
    "# --- Feature 4: Hour of transaction ---\n",
    "df['hour_of_day'] = df['purchase_time'].dt.hour\n",
    "\n",
    "# --- Feature 5: Day of the week ---\n",
    "df['day_of_week'] = df['purchase_time'].dt.dayofweek\n",
    "\n",
    "# --- Feature 6: Time since signup (alias of txn_time_sec) ---\n",
    "df['time_since_signup'] = df['txn_time_sec']\n",
    "\n"
   ]
  },
  {
   "cell_type": "code",
   "execution_count": 4,
   "id": "54266cfc",
   "metadata": {},
   "outputs": [
    {
     "name": "stdout",
     "output_type": "stream",
     "text": [
      "✅ Feature-engineered dataset saved to: ../data/feature_engineered_data.csv\n"
     ]
    }
   ],
   "source": [
    "\n",
    "# Save the new dataset\n",
    "df.to_csv(\"../data/feature_engineered_data.csv\", index=False)\n",
    "print(\"✅ Feature-engineered dataset saved to: ../data/feature_engineered_data.csv\")"
   ]
  }
 ],
 "metadata": {
  "kernelspec": {
   "display_name": ".venv",
   "language": "python",
   "name": "python3"
  },
  "language_info": {
   "codemirror_mode": {
    "name": "ipython",
    "version": 3
   },
   "file_extension": ".py",
   "mimetype": "text/x-python",
   "name": "python",
   "nbconvert_exporter": "python",
   "pygments_lexer": "ipython3",
   "version": "3.10.11"
  }
 },
 "nbformat": 4,
 "nbformat_minor": 5
}
