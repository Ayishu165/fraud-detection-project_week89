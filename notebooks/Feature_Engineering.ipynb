{
 "cells": [
  {
   "cell_type": "code",
   "execution_count": 1,
   "id": "0c8f682e",
   "metadata": {},
   "outputs": [],
   "source": [
    "import pandas as pd"
   ]
  },
  {
   "cell_type": "code",
   "execution_count": 2,
   "id": "330f974f",
   "metadata": {},
   "outputs": [],
   "source": [
    "# Load enriched dataset\n",
    "df = pd.read_csv(\"../data/Fraud_Data_With_Country.csv\")"
   ]
  },
  {
   "cell_type": "code",
   "execution_count": 3,
   "id": "9c4a5923",
   "metadata": {},
   "outputs": [],
   "source": [
    "# Convert time columns to datetime\n",
    "df['signup_time'] = pd.to_datetime(df['signup_time'])\n",
    "df['purchase_time'] = pd.to_datetime(df['purchase_time'])\n",
    "\n",
    "# --- Feature 1: Transaction frequency per user ---\n",
    "df['user_txn_count'] = df.groupby('user_id')['user_id'].transform('count')\n",
    "\n",
    "# --- Feature 2: Time difference between signup and purchase (velocity) ---\n",
    "df['txn_time_sec'] = (df['purchase_time'] - df['signup_time']).dt.total_seconds()\n",
    "\n",
    "# --- Feature 3: User's average transaction time ---\n",
    "df['user_avg_txn_time'] = df.groupby('user_id')['txn_time_sec'].transform('mean')\n",
    "\n",
    "# --- Feature 4: Hour of transaction ---\n",
    "df['hour_of_day'] = df['purchase_time'].dt.hour\n",
    "\n",
    "# --- Feature 5: Day of the week ---\n",
    "df['day_of_week'] = df['purchase_time'].dt.dayofweek\n",
    "\n",
    "# --- Feature 6: Time since signup (alias of txn_time_sec) ---\n",
    "df['time_since_signup'] = df['txn_time_sec']\n",
    "\n"
   ]
  },
  {
   "cell_type": "code",
   "execution_count": 4,
   "id": "54266cfc",
   "metadata": {},
   "outputs": [
    {
     "name": "stdout",
     "output_type": "stream",
     "text": [
      "✅ Feature-engineered dataset saved to: ../data/feature_engineered_data.csv\n"
     ]
    }
   ],
   "source": [
    "\n",
    "# Save the new dataset\n",
    "df.to_csv(\"../data/feature_engineered_data.csv\", index=False)\n",
    "print(\"✅ Feature-engineered dataset saved to: ../data/feature_engineered_data.csv\")"
   ]
  },
  {
   "cell_type": "code",
   "execution_count": 6,
   "id": "421bc9e4",
   "metadata": {},
   "outputs": [
    {
     "name": "stdout",
     "output_type": "stream",
     "text": [
      "Columns in the feature-engineered dataset:\n",
      "['user_id', 'signup_time', 'purchase_time', 'purchase_value', 'device_id', 'source', 'browser', 'sex', 'age', 'ip_address', 'class', 'ip_address_int', 'country', 'user_txn_count', 'txn_time_sec', 'user_avg_txn_time', 'hour_of_day', 'day_of_week', 'time_since_signup']\n",
      "\n",
      "First 5 rows of the feature-engineered dataset:\n",
      "   user_id         signup_time       purchase_time  purchase_value  \\\n",
      "0    22058 2015-02-24 22:55:49 2015-04-18 02:47:11              34   \n",
      "1   333320 2015-06-07 20:39:50 2015-06-08 01:38:54              16   \n",
      "2     1359 2015-01-01 18:52:44 2015-01-01 18:52:45              15   \n",
      "3   150084 2015-04-28 21:13:25 2015-05-04 13:54:50              44   \n",
      "4   221365 2015-07-21 07:09:52 2015-09-09 18:40:53              39   \n",
      "\n",
      "       device_id source browser sex  age    ip_address  class  ip_address_int  \\\n",
      "0  QVPSPJUOCKZAR    SEO  Chrome   M   39  7.327584e+08      0       732758368   \n",
      "1  EOGFQPIZPYXFZ    Ads  Chrome   F   53  3.503114e+08      0       350311387   \n",
      "2  YSSKYOSJHPPLJ    SEO   Opera   M   53  2.621474e+09      1      2621473820   \n",
      "3  ATGTXKYKUDUQN    SEO  Safari   M   41  3.840542e+09      0      3840542443   \n",
      "4  NAUITBZFJKHWW    Ads  Safari   M   45  4.155831e+08      0       415583117   \n",
      "\n",
      "         country  user_txn_count  txn_time_sec  user_avg_txn_time  \\\n",
      "0          Japan               1     4506682.0          4506682.0   \n",
      "1  United States               1       17944.0            17944.0   \n",
      "2  United States               1           1.0                1.0   \n",
      "3        Unknown               1      492085.0           492085.0   \n",
      "4  United States               1     4361461.0          4361461.0   \n",
      "\n",
      "   hour_of_day  day_of_week  time_since_signup  \n",
      "0            2            5          4506682.0  \n",
      "1            1            0            17944.0  \n",
      "2           18            3                1.0  \n",
      "3           13            0           492085.0  \n",
      "4           18            2          4361461.0  \n",
      "\n",
      "Shape of the feature-engineered dataset:\n"
     ]
    }
   ],
   "source": [
    "#display columns and first 5 rows  ../data/feature_engineered_data.csv\"\n",
    "print(\"Columns in the feature-engineered dataset:\")\n",
    "print(df.columns.tolist())\n",
    "print(\"\\nFirst 5 rows of the feature-engineered dataset:\")\n",
    "print(df.head())\n",
    "# Display the shape of the dataset\n",
    "print(\"\\nShape of the feature-engineered dataset:\")\n",
    "\n",
    "\n"
   ]
  }
 ],
 "metadata": {
  "kernelspec": {
   "display_name": ".venv",
   "language": "python",
   "name": "python3"
  },
  "language_info": {
   "codemirror_mode": {
    "name": "ipython",
    "version": 3
   },
   "file_extension": ".py",
   "mimetype": "text/x-python",
   "name": "python",
   "nbconvert_exporter": "python",
   "pygments_lexer": "ipython3",
   "version": "3.10.11"
  }
 },
 "nbformat": 4,
 "nbformat_minor": 5
}
